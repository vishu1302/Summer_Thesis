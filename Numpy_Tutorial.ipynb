{
 "cells": [
  {
   "cell_type": "code",
   "execution_count": 1,
   "id": "34022c81",
   "metadata": {},
   "outputs": [],
   "source": [
    "import numpy as np"
   ]
  },
  {
   "cell_type": "markdown",
   "id": "e74f2e49",
   "metadata": {},
   "source": [
    "we can create an array and give argument as data type which will be used for memory management"
   ]
  },
  {
   "cell_type": "code",
   "execution_count": 2,
   "id": "debcd6ed",
   "metadata": {},
   "outputs": [],
   "source": [
    "myarr=np.array([[3,6,6]],np.int32)"
   ]
  },
  {
   "cell_type": "code",
   "execution_count": 3,
   "id": "1994accc",
   "metadata": {},
   "outputs": [
    {
     "data": {
      "text/plain": [
       "6"
      ]
     },
     "execution_count": 3,
     "metadata": {},
     "output_type": "execute_result"
    }
   ],
   "source": [
    "myarr[0,2]"
   ]
  },
  {
   "cell_type": "code",
   "execution_count": 4,
   "id": "f18767bc",
   "metadata": {},
   "outputs": [
    {
     "data": {
      "text/plain": [
       "(1, 3)"
      ]
     },
     "execution_count": 4,
     "metadata": {},
     "output_type": "execute_result"
    }
   ],
   "source": [
    "myarr.shape #getting shape of the array "
   ]
  },
  {
   "cell_type": "code",
   "execution_count": 5,
   "id": "3f5ddf1c",
   "metadata": {},
   "outputs": [
    {
     "data": {
      "text/plain": [
       "dtype('int32')"
      ]
     },
     "execution_count": 5,
     "metadata": {},
     "output_type": "execute_result"
    }
   ],
   "source": [
    "myarr.dtype"
   ]
  },
  {
   "cell_type": "code",
   "execution_count": 6,
   "id": "ad5ead71",
   "metadata": {},
   "outputs": [
    {
     "name": "stdout",
     "output_type": "stream",
     "text": [
      "[[ 3 45  6]]\n"
     ]
    }
   ],
   "source": [
    "myarr[0,1]=45 #assigning values at particular position\n",
    "print(myarr)"
   ]
  },
  {
   "cell_type": "markdown",
   "id": "c6635521",
   "metadata": {},
   "source": [
    "**Array Creation**"
   ]
  },
  {
   "cell_type": "code",
   "execution_count": 7,
   "id": "47f0d216",
   "metadata": {},
   "outputs": [
    {
     "data": {
      "text/plain": [
       "array([[1, 2, 3],\n",
       "       [4, 5, 6],\n",
       "       [7, 8, 9]])"
      ]
     },
     "execution_count": 7,
     "metadata": {},
     "output_type": "execute_result"
    }
   ],
   "source": [
    "#Conversion from python structures\n",
    "listarray=np.array([[1,2,3],[4,5,6],[7,8,9]])\n",
    "listarray\n",
    "#listarray.size"
   ]
  },
  {
   "cell_type": "code",
   "execution_count": 8,
   "id": "e2aa149b",
   "metadata": {},
   "outputs": [
    {
     "data": {
      "text/plain": [
       "array([[0., 0., 0., 0., 0., 0.],\n",
       "       [0., 0., 0., 0., 0., 0.]])"
      ]
     },
     "execution_count": 8,
     "metadata": {},
     "output_type": "execute_result"
    }
   ],
   "source": [
    "#Intrinsic NumPy array creation functions (e.g. arange, ones, zeros, etc.)\n",
    "zero_arr=np.zeros((2,6))\n",
    "zero_arr\n",
    "#zero_arr.shape"
   ]
  },
  {
   "cell_type": "code",
   "execution_count": 9,
   "id": "ad0514fd",
   "metadata": {},
   "outputs": [
    {
     "data": {
      "text/plain": [
       "array([ 0,  1,  2,  3,  4,  5,  6,  7,  8,  9, 10, 11, 12, 13, 14])"
      ]
     },
     "execution_count": 9,
     "metadata": {},
     "output_type": "execute_result"
    }
   ],
   "source": [
    "rng= np.arange(15) #gives an numpy array of 0 to n-1\n",
    "rng"
   ]
  },
  {
   "cell_type": "code",
   "execution_count": 10,
   "id": "a3bdce30",
   "metadata": {},
   "outputs": [
    {
     "data": {
      "text/plain": [
       "array([1.        , 1.38461538, 1.76923077, 2.15384615, 2.53846154,\n",
       "       2.92307692, 3.30769231, 3.69230769, 4.07692308, 4.46153846,\n",
       "       4.84615385, 5.23076923, 5.61538462, 6.        ])"
      ]
     },
     "execution_count": 10,
     "metadata": {},
     "output_type": "execute_result"
    }
   ],
   "source": [
    "lspace=np.linspace(1,6,14) #gives linearly spaced elements (1,n,elements)\n",
    "lspace"
   ]
  },
  {
   "cell_type": "code",
   "execution_count": 11,
   "id": "a8cf9c63",
   "metadata": {},
   "outputs": [
    {
     "name": "stdout",
     "output_type": "stream",
     "text": [
      "[1.         1.38461538 1.76923077 2.15384615 2.53846154 2.92307692\n",
      " 3.30769231 3.69230769 4.07692308 4.46153846 4.84615385 5.23076923\n",
      " 5.61538462 6.        ]\n",
      "[1.         1.38461538 1.76923077 2.15384615 2.53846154 2.92307692\n",
      " 3.30769231 3.69230769 4.07692308 4.46153846 4.84615385 5.23076923\n",
      " 5.61538462 6.        ]\n"
     ]
    }
   ],
   "source": [
    "emp=np.empty((4,6))\n",
    "emp_like=np.empty_like(lspace) #assigns same array element to other array\n",
    "print(lspace)\n",
    "print(emp_like)"
   ]
  },
  {
   "cell_type": "code",
   "execution_count": 12,
   "id": "e2937209",
   "metadata": {},
   "outputs": [
    {
     "name": "stdout",
     "output_type": "stream",
     "text": [
      "[[1. 0. 0. 0. 0. 0. 0. 0. 0.]\n",
      " [0. 1. 0. 0. 0. 0. 0. 0. 0.]\n",
      " [0. 0. 1. 0. 0. 0. 0. 0. 0.]\n",
      " [0. 0. 0. 1. 0. 0. 0. 0. 0.]\n",
      " [0. 0. 0. 0. 1. 0. 0. 0. 0.]\n",
      " [0. 0. 0. 0. 0. 1. 0. 0. 0.]\n",
      " [0. 0. 0. 0. 0. 0. 1. 0. 0.]\n",
      " [0. 0. 0. 0. 0. 0. 0. 1. 0.]\n",
      " [0. 0. 0. 0. 0. 0. 0. 0. 1.]]\n"
     ]
    },
    {
     "data": {
      "text/plain": [
       "(9, 9)"
      ]
     },
     "execution_count": 12,
     "metadata": {},
     "output_type": "execute_result"
    }
   ],
   "source": [
    "ide=np.identity(9)\n",
    "print(ide)\n",
    "ide.shape"
   ]
  },
  {
   "cell_type": "code",
   "execution_count": 13,
   "id": "b75c63d3",
   "metadata": {},
   "outputs": [
    {
     "name": "stdout",
     "output_type": "stream",
     "text": [
      "[ 0  1  2  3  4  5  6  7  8  9 10 11 12 13 14 15 16 17 18 19 20 21 22 23\n",
      " 24]\n",
      "[[ 0  1  2  3  4]\n",
      " [ 5  6  7  8  9]\n",
      " [10 11 12 13 14]\n",
      " [15 16 17 18 19]\n",
      " [20 21 22 23 24]]\n",
      "[ 0  1  2  3  4  5  6  7  8  9 10 11 12 13 14 15 16 17 18 19 20 21 22 23\n",
      " 24]\n"
     ]
    }
   ],
   "source": [
    "#use of reshape and ravel\n",
    "arr1=np.arange(25)\n",
    "print(arr1)\n",
    "arr1=arr1.reshape(5,5)\n",
    "print(arr1)\n",
    "arr1=arr1.ravel()\n",
    "print(arr1)\n"
   ]
  },
  {
   "cell_type": "code",
   "execution_count": 14,
   "id": "4af3a160",
   "metadata": {},
   "outputs": [
    {
     "data": {
      "text/plain": [
       "array([[1, 2, 3],\n",
       "       [4, 5, 6],\n",
       "       [7, 1, 0]])"
      ]
     },
     "execution_count": 14,
     "metadata": {},
     "output_type": "execute_result"
    }
   ],
   "source": [
    "#Understanding numpy axis\n",
    "x=[[1,2,3],[4,5,6],[7,1,0]]\n",
    "arr2=np.array(x)\n",
    "arr2"
   ]
  },
  {
   "cell_type": "code",
   "execution_count": 15,
   "id": "444f2dc3",
   "metadata": {},
   "outputs": [
    {
     "name": "stdout",
     "output_type": "stream",
     "text": [
      "[12  8  9] [ 6 15  8]\n"
     ]
    }
   ],
   "source": [
    "#summing on axis 0 and 1\n",
    "s1=arr2.sum(axis=0)  #summing along the columns\n",
    "s2=arr2.sum(axis=1)  #summing along the rows\n",
    "print(s1,s2)"
   ]
  },
  {
   "cell_type": "code",
   "execution_count": 16,
   "id": "e9d2b0dd",
   "metadata": {},
   "outputs": [
    {
     "data": {
      "text/plain": [
       "array([[1, 4, 7],\n",
       "       [2, 5, 1],\n",
       "       [3, 6, 0]])"
      ]
     },
     "execution_count": 16,
     "metadata": {},
     "output_type": "execute_result"
    }
   ],
   "source": [
    "#Transpose\n",
    "arr_t=arr2.T\n",
    "arr_t"
   ]
  },
  {
   "cell_type": "code",
   "execution_count": 17,
   "id": "97f276a6",
   "metadata": {},
   "outputs": [
    {
     "name": "stdout",
     "output_type": "stream",
     "text": [
      "1\n",
      "2\n",
      "3\n",
      "4\n",
      "5\n",
      "6\n",
      "7\n",
      "1\n",
      "0\n",
      "2\n",
      "36\n"
     ]
    }
   ],
   "source": [
    "# iterator\n",
    "arr2.flat\n",
    "for i in arr2.flat:\n",
    "    print(i)\n",
    "    \n",
    "#dimensions\n",
    "dim=arr2.ndim\n",
    "print(dim)\n",
    "\n",
    "#bytes consumed\n",
    "b_cons=arr2.nbytes\n",
    "print(b_cons)"
   ]
  },
  {
   "cell_type": "code",
   "execution_count": 18,
   "id": "873ad45d",
   "metadata": {},
   "outputs": [
    {
     "data": {
      "text/plain": [
       "array([0, 4, 1, 2, 3], dtype=int64)"
      ]
     },
     "execution_count": 18,
     "metadata": {},
     "output_type": "execute_result"
    }
   ],
   "source": [
    "#Use of argmax  , argmin and argsort\n",
    "arr3=np.array([1,3,4,634,2])\n",
    "arr3.argmax() #returns index of the maximum element\n",
    "\n",
    "arr3.argmin() #returns index of the minimum element\n",
    " \n",
    "arr3.argsort() #returns indices of array inorder to sort it ascending"
   ]
  },
  {
   "cell_type": "code",
   "execution_count": 19,
   "id": "977fd2e3",
   "metadata": {},
   "outputs": [
    {
     "data": {
      "text/plain": [
       "array([2, 1, 1], dtype=int64)"
      ]
     },
     "execution_count": 19,
     "metadata": {},
     "output_type": "execute_result"
    }
   ],
   "source": [
    "arr2.argmax() #returns element after flatting\n",
    "a_min=arr2.argmin(axis=0) #returns min elements along axis 0\n",
    "a_min\n",
    "\n",
    "#Similar can be done for argmax and arg sort\n",
    "arr2.argmax(axis=0)"
   ]
  },
  {
   "cell_type": "code",
   "execution_count": 20,
   "id": "5a99e484",
   "metadata": {},
   "outputs": [
    {
     "name": "stdout",
     "output_type": "stream",
     "text": [
      "[[ 3 11 16]\n",
      " [12 17 28]]\n",
      "[[-1 -5 -6]\n",
      " [ 2 -1 -2]]\n",
      "Dot product of matrix B and C is:  [[310 299]\n",
      " [432 397]]\n",
      "Cross product of matrix B and C is:  [[  7   1  -2]\n",
      " [ -3  40 -23]]\n"
     ]
    }
   ],
   "source": [
    "#matrix operations\n",
    "A=np.array([\n",
    "    [1,3,5],\n",
    "    [7,8,13]\n",
    "])\n",
    "\n",
    "B=np.array([\n",
    "    [2,8,11],\n",
    "    [5,9,15]\n",
    "])\n",
    "\n",
    "s=A+B #addition\n",
    "sub=A-B #subtraction\n",
    "\n",
    "#For matrix operations dimensions should be same of the matrices involved.\n",
    "print(s)\n",
    "print(sub)\n",
    "\n",
    "C=np.array([\n",
    "    [15,2],\n",
    "    [13,8],\n",
    "    [16,21]\n",
    "])\n",
    "\n",
    "dot_prod=B.dot(C)\n",
    "print(\"Dot product of matrix B and C is: \",dot_prod)\n",
    "cross_p=np.cross(B,A)\n",
    "print(\"Cross product of matrix B and C is: \",cross_p)"
   ]
  },
  {
   "cell_type": "code",
   "execution_count": 21,
   "id": "8053747d",
   "metadata": {},
   "outputs": [
    {
     "name": "stdout",
     "output_type": "stream",
     "text": [
      "[[1. 1. 1.]\n",
      " [1. 1. 1.]\n",
      " [1. 1. 1.]\n",
      " [1. 1. 1.]\n",
      " [1. 1. 1.]]\n",
      "[[5. 5. 5.]\n",
      " [5. 5. 5.]\n",
      " [5. 5. 5.]\n",
      " [5. 5. 5.]\n",
      " [5. 5. 5.]]\n",
      "[[-2  4  0]\n",
      " [-3  2 -5]\n",
      " [ 4  2  4]\n",
      " [ 0 -1 -1]\n",
      " [ 4  0  3]]\n"
     ]
    }
   ],
   "source": [
    "#Vector and Matrix Operation\n",
    "A=np.ones((5,3))\n",
    "B=5.0*A #scalar multiplication\n",
    "C=np.random.randint(-5,5,(5,3))\n",
    "\n",
    "print(A)\n",
    "print(B)\n",
    "print(C)"
   ]
  },
  {
   "cell_type": "code",
   "execution_count": 22,
   "id": "8765890e",
   "metadata": {},
   "outputs": [
    {
     "name": "stdout",
     "output_type": "stream",
     "text": [
      "[[5. 5. 5.]\n",
      " [5. 5. 5.]\n",
      " [5. 5. 5.]\n",
      " [5. 5. 5.]\n",
      " [5. 5. 5.]]\n",
      "[[5. 5. 5.]\n",
      " [5. 5. 5.]\n",
      " [5. 5. 5.]\n",
      " [5. 5. 5.]\n",
      " [5. 5. 5.]]\n",
      "[[7.59375 7.59375 7.59375]\n",
      " [7.59375 7.59375 7.59375]\n",
      " [7.59375 7.59375 7.59375]\n",
      " [7.59375 7.59375 7.59375]\n",
      " [7.59375 7.59375 7.59375]]\n",
      "[[2.71828183 2.71828183 2.71828183]\n",
      " [2.71828183 2.71828183 2.71828183]\n",
      " [2.71828183 2.71828183 2.71828183]\n",
      " [2.71828183 2.71828183 2.71828183]\n",
      " [2.71828183 2.71828183 2.71828183]]\n"
     ]
    }
   ],
   "source": [
    "#Elemental multiplication\n",
    "print(A*B)\n",
    "print(np.multiply(A,B))\n",
    "\n",
    "A1=1.5*A #scalar multiplication\n",
    "#Power\n",
    "print(A1**B)\n",
    "np.sqrt(A)   \n",
    "np.power(A,0.2) #power\n",
    "print(np.exp(A))  #raising each value to e\n"
   ]
  },
  {
   "cell_type": "code",
   "execution_count": 23,
   "id": "a5b40e91",
   "metadata": {},
   "outputs": [
    {
     "data": {
      "text/plain": [
       "array([[6., 6., 6.],\n",
       "       [6., 6., 6.],\n",
       "       [6., 6., 6.],\n",
       "       [6., 6., 6.],\n",
       "       [6., 6., 6.]])"
      ]
     },
     "execution_count": 23,
     "metadata": {},
     "output_type": "execute_result"
    }
   ],
   "source": [
    "#Assignment Operations\n",
    "A+=B\n",
    "A\n",
    "#A-=B\n",
    "#A*=B"
   ]
  },
  {
   "cell_type": "code",
   "execution_count": 24,
   "id": "2afc871c",
   "metadata": {},
   "outputs": [
    {
     "data": {
      "text/plain": [
       "array([[90., 90., 90., 90., 90.],\n",
       "       [90., 90., 90., 90., 90.],\n",
       "       [90., 90., 90., 90., 90.],\n",
       "       [90., 90., 90., 90., 90.],\n",
       "       [90., 90., 90., 90., 90.]])"
      ]
     },
     "execution_count": 24,
     "metadata": {},
     "output_type": "execute_result"
    }
   ],
   "source": [
    "#dot product\n",
    "np.dot(A,B.T)   #transpose is done for making dimensionality check"
   ]
  },
  {
   "cell_type": "code",
   "execution_count": 25,
   "id": "140453ba",
   "metadata": {},
   "outputs": [
    {
     "name": "stdout",
     "output_type": "stream",
     "text": [
      "[[ 1.37062937e-01  1.29137529e-01 -3.07692308e-02  1.16550117e-02\n",
      "   1.16550117e-01]\n",
      " [ 1.81818182e-01  4.54545455e-02  1.13992799e-17 -1.81818182e-01\n",
      "   1.81818182e-01]\n",
      " [ 6.57342657e-02  1.84382284e-01  1.07692308e-01 -8.62470862e-02\n",
      "   1.37529138e-01]\n",
      " [-1.11888112e-01 -4.07925408e-02 -7.69230769e-02 -1.63170163e-02\n",
      "  -1.63170163e-01]\n",
      " [-8.81118881e-02 -5.92074592e-02 -1.23076923e-01  1.63170163e-02\n",
      "   1.63170163e-01]]\n",
      "[[ 1.00000000e+00 -4.85722573e-17  1.94289029e-16  6.93889390e-18\n",
      "  -5.55111512e-17]\n",
      " [ 0.00000000e+00  1.00000000e+00  0.00000000e+00 -1.38777878e-17\n",
      "   1.11022302e-16]\n",
      " [ 5.55111512e-17 -1.80411242e-16  1.00000000e+00  0.00000000e+00\n",
      "  -1.11022302e-16]\n",
      " [ 0.00000000e+00  0.00000000e+00  0.00000000e+00  1.00000000e+00\n",
      "   0.00000000e+00]\n",
      " [-2.77555756e-17 -3.46944695e-17 -8.32667268e-17  0.00000000e+00\n",
      "   1.00000000e+00]]\n"
     ]
    }
   ],
   "source": [
    "#Calculating Inverse \n",
    "D=np.random.randint(-5,5,(5,5))\n",
    "Dinv=np.linalg.inv(D)\n",
    "print(Dinv)\n",
    "\n",
    "print(np.dot(D,Dinv)) #Checking the result"
   ]
  },
  {
   "cell_type": "code",
   "execution_count": 26,
   "id": "59e4c945",
   "metadata": {},
   "outputs": [
    {
     "name": "stdout",
     "output_type": "stream",
     "text": [
      "The eigenvalues are and eigen vectors are, [-5.35219119+5.38237622j -5.35219119-5.38237622j  8.12392402+0.j\n",
      "  2.29022918+1.97994878j  2.29022918-1.97994878j] [[ 0.34110419-0.07656543j  0.34110419+0.07656543j  0.65019357+0.j\n",
      "   0.27393602-0.14427461j  0.27393602+0.14427461j]\n",
      " [-0.64321779+0.j         -0.64321779-0.j          0.10560636+0.j\n",
      "   0.4257188 -0.19821926j  0.4257188 +0.19821926j]\n",
      " [ 0.2842841 -0.24813032j  0.2842841 +0.24813032j -0.6094946 +0.j\n",
      "   0.55133301+0.j          0.55133301-0.j        ]\n",
      " [-0.08634104-0.54081428j -0.08634104+0.54081428j  0.22658872+0.j\n",
      "  -0.27054523+0.14239845j -0.27054523-0.14239845j]\n",
      " [ 0.06199119-0.13376347j  0.06199119+0.13376347j -0.37850958+0.j\n",
      "  -0.30134284-0.44200554j -0.30134284+0.44200554j]]\n"
     ]
    }
   ],
   "source": [
    "eigval,eigvec=np.linalg.eig(D)\n",
    "print(\"The eigenvalues are and eigen vectors are,\",eigval,eigvec)"
   ]
  },
  {
   "cell_type": "code",
   "execution_count": null,
   "id": "21164814",
   "metadata": {},
   "outputs": [],
   "source": []
  }
 ],
 "metadata": {
  "kernelspec": {
   "display_name": "Python 3",
   "language": "python",
   "name": "python3"
  },
  "language_info": {
   "codemirror_mode": {
    "name": "ipython",
    "version": 3
   },
   "file_extension": ".py",
   "mimetype": "text/x-python",
   "name": "python",
   "nbconvert_exporter": "python",
   "pygments_lexer": "ipython3",
   "version": "3.8.8"
  }
 },
 "nbformat": 4,
 "nbformat_minor": 5
}
